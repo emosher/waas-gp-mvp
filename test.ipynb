{
 "cells": [
  {
   "cell_type": "markdown",
   "metadata": {},
   "source": [
    "### Greenplum Example\n",
    "\n",
    "The following is an example connecting to Greenplum from Jupyter.  Before you run this:\n",
    " - Ensure the Iris data set already being loaded into Greenplum  \n",
    " - Fill in the \"dbparams\" options to connect this to your GPDB instance"
   ]
  },
  {
   "cell_type": "code",
   "execution_count": null,
   "metadata": {},
   "outputs": [],
   "source": [
    "# Install required libraries\n",
    "!pip install psycopg2-binary pandas seaborn matplotlib\n",
    "\n",
    "# Import libraries\n",
    "import os\n",
    "import psycopg2\n",
    "import pandas as pd\n",
    "import seaborn as sns\n",
    "import matplotlib.pyplot as plt\n",
    "\n",
    "db_database = os.getenv('DB_DATABASE')\n",
    "db_user = os.getenv('DB_USER')\n",
    "db_pw = os.getenv('DB_PW')\n",
    "db_host = os.getenv('DB_HOST')\n",
    "db_port = os.getenv('DB_PORT')\n",
    "\n",
    "# Database connection parameters\n",
    "db_params = {\n",
    "    'database': db_database,\n",
    "    'user': db_user,\n",
    "    'password': db_pw,\n",
    "    'host': db_host,\n",
    "    'port': db_port\n",
    "}\n",
    "\n",
    "# Establish a connection to the database\n",
    "conn = psycopg2.connect(**db_params)\n",
    "\n",
    "# Query to fetch the data\n",
    "query = \"SELECT * FROM iris;\"\n",
    "\n",
    "# Load data into a pandas DataFrame\n",
    "df = pd.read_sql_query(query, conn)\n",
    "\n",
    "# Close the database connection\n",
    "conn.close()\n",
    "\n",
    "# Display the first few rows of the DataFrame\n",
    "df.head()\n",
    "\n",
    "# Pairplot\n",
    "sns.pairplot(df, hue='species')\n",
    "plt.show()\n",
    "\n",
    "# Boxplot\n",
    "sns.boxplot(x='species', y='sepal_length', data=df)\n",
    "plt.show()"
   ]
  },
  {
   "cell_type": "markdown",
   "metadata": {},
   "source": []
  }
 ],
 "metadata": {
  "language_info": {
   "name": "python"
  }
 },
 "nbformat": 4,
 "nbformat_minor": 2
}
